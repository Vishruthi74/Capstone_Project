{
 "cells": [
  {
   "cell_type": "markdown",
   "metadata": {},
   "source": [
    "# WEEK 5 ASSIGNMENT:"
   ]
  },
  {
   "cell_type": "markdown",
   "metadata": {},
   "source": [
    "## INTRODUCTION:"
   ]
  },
  {
   "cell_type": "markdown",
   "metadata": {},
   "source": [
    "##### Best Location to start the eastern restaurant in London?\n",
    "##### 1.\tWe need to decide which type of restaurant we are planning to start. Includes food, services, and atmosphere.\n",
    "##### 2.\tWe need to decide who would prefer to come to the restaurant.\n",
    "##### 3.\tWe need to know who all are our competitors.\n",
    "##### 4.\tConsider the location and premises in the Italy, whether helpful for our business or not. \n"
   ]
  },
  {
   "cell_type": "markdown",
   "metadata": {},
   "source": [
    "## DATA"
   ]
  },
  {
   "cell_type": "markdown",
   "metadata": {},
   "source": [
    "##### London population as of 2020 march is 9,304,016. \n",
    "##### For our problem, we need to focus on those boroughs of London and work on getting the data from boroughs. \n",
    "##### We need to consider Asian as their birth place, Age, Gender, Marital Status, Employment Status, Income, Area required to start the business, competitors, tourists and value(cost) required. \n",
    "##### The data store link is available at:- https://data.london.gov.uk/\n",
    "##### We use Foursquare also to solve this problem. In fact this plays a major role in the project.\n"
   ]
  },
  {
   "cell_type": "markdown",
   "metadata": {},
   "source": [
    "## METHODOLOGY"
   ]
  },
  {
   "cell_type": "markdown",
   "metadata": {},
   "source": [
    "##### We use certain techniques such as collecting, cleaning, integrating, performing operations on it. \n",
    "##### And we can also perform actions such as KNN Algorithm, K-Means Algorithm, and many more.\n"
   ]
  },
  {
   "cell_type": "markdown",
   "metadata": {},
   "source": [
    "## RESULTS:"
   ]
  },
  {
   "cell_type": "markdown",
   "metadata": {},
   "source": [
    "##### Results found are discussed here confidently and convincethe required stakeholders."
   ]
  },
  {
   "cell_type": "markdown",
   "metadata": {},
   "source": [
    "## DISCUSSION:"
   ]
  },
  {
   "cell_type": "markdown",
   "metadata": {},
   "source": [
    "##### We can openly discuss here what are we presenting here and explain what the business is all about.\n",
    "##### And manage to draw certain interested stakeholders into this."
   ]
  },
  {
   "cell_type": "code",
   "execution_count": null,
   "metadata": {},
   "outputs": [],
   "source": []
  }
 ],
 "metadata": {
  "kernelspec": {
   "display_name": "Python",
   "language": "python",
   "name": "conda-env-python-py"
  },
  "language_info": {
   "codemirror_mode": {
    "name": "ipython",
    "version": 3
   },
   "file_extension": ".py",
   "mimetype": "text/x-python",
   "name": "python",
   "nbconvert_exporter": "python",
   "pygments_lexer": "ipython3",
   "version": "3.6.7"
  }
 },
 "nbformat": 4,
 "nbformat_minor": 4
}
